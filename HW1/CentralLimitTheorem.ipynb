{
  "nbformat": 4,
  "nbformat_minor": 0,
  "metadata": {
    "anaconda-cloud": {},
    "kernelspec": {
      "display_name": "Python 3",
      "language": "python",
      "name": "python3"
    },
    "language_info": {
      "codemirror_mode": {
        "name": "ipython",
        "version": 3
      },
      "file_extension": ".py",
      "mimetype": "text/x-python",
      "name": "python",
      "nbconvert_exporter": "python",
      "pygments_lexer": "ipython3",
      "version": "3.7.3"
    },
    "latex_envs": {
      "LaTeX_envs_menu_present": true,
      "autoclose": false,
      "autocomplete": true,
      "bibliofile": "biblio.bib",
      "cite_by": "apalike",
      "current_citInitial": 1,
      "eqLabelWithNumbers": true,
      "eqNumInitial": 1,
      "hotkeys": {
        "equation": "Ctrl-E",
        "itemize": "Ctrl-I"
      },
      "labels_anchors": false,
      "latex_user_defs": false,
      "report_style_numbering": false,
      "user_envs_cfg": false
    },
    "nbTranslate": {
      "displayLangs": [
        "*"
      ],
      "hotkey": "alt-t",
      "langInMainMenu": true,
      "sourceLang": "en",
      "targetLang": "fr",
      "useGoogleTranslate": true
    },
    "toc": {
      "base_numbering": 1,
      "nav_menu": {},
      "number_sections": true,
      "sideBar": true,
      "skip_h1_title": false,
      "title_cell": "Table of Contents",
      "title_sidebar": "Contents",
      "toc_cell": false,
      "toc_position": {},
      "toc_section_display": true,
      "toc_window_display": false
    },
    "colab": {
      "name": "CentralLimitTheorem.ipynb",
      "provenance": [],
      "include_colab_link": true
    }
  },
  "cells": [
    {
      "cell_type": "markdown",
      "metadata": {
        "id": "view-in-github",
        "colab_type": "text"
      },
      "source": [
        "<a href=\"https://colab.research.google.com/github/fedhere/DSPS_FBianco/blob/master/HW1/CentralLimitTheorem.ipynb\" target=\"_parent\"><img src=\"https://colab.research.google.com/assets/colab-badge.svg\" alt=\"Open In Colab\"/></a>"
      ]
    },
    {
      "cell_type": "markdown",
      "metadata": {
        "id": "kHfXPQ7pRwrS"
      },
      "source": [
        " Written by Federica B. Bianco @fedhere\n",
        "UDel DSPS\n",
        "\n",
        " # Homework 2\n",
        "\n",
        " This is a skeleton & instruction notebook\n",
        "\n",
        "-  GENERATE  100 samples of different sizes N (N>10 & N<2000) from each of 5 different distributions (500 samples in total), \n",
        " _all with the same population mean_. Include a _Normal_, a _Poisson_, a _Binomial_, a _Chi-Squared_ distribution, and 1 more of your choice.                                       \n",
        "-  For each sample plot the sample mean (dependent var.) against the sample size N (independent var.) (if you want you can do it with the sample standard deviation as well). \n",
        "-  Describe the behavior you see in the plots in terms of the law of large numbers.\n",
        "-  PLOT the distributions of all sample means (together for all distributions). _Mandatory_: as a histogram. _Optional_: in any other way you think is convincing\n",
        "-  Extra Credit (required for 661 students): FIT a gaussian to the distribution of means            "
      ]
    },
    {
      "cell_type": "code",
      "metadata": {
        "ExecuteTime": {
          "end_time": "2019-09-04T18:40:29.989386Z",
          "start_time": "2019-09-04T18:40:29.957973Z"
        },
        "colab": {
          "base_uri": "https://localhost:8080/"
        },
        "id": "qw_BiupARwrU",
        "outputId": "29a76b55-7984-44e5-b608-c1c8a6fa4b26"
      },
      "source": [
        "from __future__ import print_function\n",
        "__author__= 'fbb'\n",
        "\n",
        "import pylab as pl\n",
        "# this package sets up pretty plots\n",
        "from scipy.optimize import curve_fit, minimize\n",
        "    \n",
        "%pylab inline\n",
        "import seaborn\n",
        "seaborn.set_style(\"darkgrid\")\n"
      ],
      "execution_count": 3,
      "outputs": [
        {
          "output_type": "stream",
          "name": "stdout",
          "text": [
            "Populating the interactive namespace from numpy and matplotlib\n"
          ]
        }
      ]
    },
    {
      "cell_type": "markdown",
      "metadata": {
        "id": "vMAc_-S_RwrV"
      },
      "source": [
        "## choose which distributions to use "
      ]
    },
    {
      "cell_type": "code",
      "metadata": {
        "ExecuteTime": {
          "end_time": "2019-09-04T18:40:30.736028Z",
          "start_time": "2019-09-04T18:40:30.732670Z"
        },
        "id": "Ch8t4pHeRwrW"
      },
      "source": [
        "#distributions = ['pois', 'gaus', 'chisq', 'cauchy', 'lnorm', 'binomial']\n",
        "distributions = ['chisq']\n"
      ],
      "execution_count": null,
      "outputs": []
    },
    {
      "cell_type": "markdown",
      "metadata": {
        "collapsed": true,
        "id": "Z9BvEMwERwrW"
      },
      "source": [
        "## and which *population* mean to give it"
      ]
    },
    {
      "cell_type": "code",
      "metadata": {
        "ExecuteTime": {
          "end_time": "2019-09-04T18:40:33.116279Z",
          "start_time": "2019-09-04T18:40:33.111440Z"
        },
        "id": "L6ueeCkqRwrW"
      },
      "source": [
        "mymean = 100"
      ],
      "execution_count": null,
      "outputs": []
    },
    {
      "cell_type": "markdown",
      "metadata": {
        "id": "hUGiQLLGRwrX"
      },
      "source": [
        "# Let's see what this distribution looks like, what is the PDF, and how are the moments defined. Wikipedia is great for this! \n",
        "\n",
        "![1](https://raw.githubusercontent.com/fedhere/DSPS_2019/master/HW2/chisq1.png)\n",
        "\n",
        "![2](https://raw.githubusercontent.com/fedhere/DSPS_2019/master/HW2/chisq2.png)"
      ]
    },
    {
      "cell_type": "markdown",
      "metadata": {
        "id": "xWfLvAWFRwrX"
      },
      "source": [
        "# Then lets look at the numpy random sampling package to see how I create the distribution\n",
        "http://docs.scipy.org/doc/numpy/reference/routines.random.html\n",
        "http://docs.scipy.org/doc/numpy/reference/generated/numpy.random.chisquare.html#numpy.random.chisquare\n",
        "\n"
      ]
    },
    {
      "cell_type": "code",
      "metadata": {
        "ExecuteTime": {
          "end_time": "2019-09-04T18:40:35.884219Z",
          "start_time": "2019-09-04T18:40:35.881628Z"
        },
        "id": "2Krj_WX1RwrY"
      },
      "source": [
        "# the chi sq distribution takes the number of degrees of freedom, which luckily is the same as the mean!\n",
        "df = mymean"
      ],
      "execution_count": null,
      "outputs": []
    },
    {
      "cell_type": "markdown",
      "metadata": {
        "id": "sGr6jlfBRwrY"
      },
      "source": [
        "## I am making a dictionary to host the distributions.\n",
        "\n",
        "that is only one possible option. with a dictionary I can easily inspect the distribution I want by its name: it is a very human friendly data storage. In this example I am only using a single distribution, so for me it is overkill, but if I were doing the whole exercise with 5 or 6 distributions it would be useful!\n",
        "\n",
        "Lets start by looking at a single chi sq distribution"
      ]
    },
    {
      "cell_type": "code",
      "metadata": {
        "ExecuteTime": {
          "end_time": "2019-09-04T18:42:24.156799Z",
          "start_time": "2019-09-04T18:42:23.900473Z"
        },
        "id": "0MRFi2AWRwrY",
        "outputId": "dc2e5391-f188-43f5-a29f-6af5d571c534"
      },
      "source": [
        "# Note: I am adding imports here, to show the workflow: \n",
        "# at this point I realize what packages I need and I import them. \n",
        "# but this is a PEP8 violation. \n",
        "# It is a good habit to put the includes at the top \n",
        "# so the code fails right away if the packages are missing. \n",
        "# Otherwise a user may have a piece of code running for a long time, \n",
        "# and then fail when the package cannot be imported... \n",
        "# (unless they are only imported under conditions, e.g. in an if statement)\n",
        "\n",
        "import numpy as np\n",
        "np.random.seed(456)\n",
        "# prepare a container for all the distribution: \n",
        "# a dictionary so you can call each family of distribution by \"key\" \n",
        "mydists = {}\n",
        "# md is an empty disctionary; \n",
        "# if you are not familiar with python dictionaries see https://www.pythonforbeginners.com/dictionary/how-to-use-dictionaries-in-python\n",
        "mydists['chisq'] = np.random.chisquare(mymean, size=100)\n",
        "# md now is a dictionary with one object: an array by the key 'chisq'\n",
        "pl.hist(md['chisq'], bins = 30)\n",
        "pl.ylabel('N')\n",
        "pl.xlabel('x');"
      ],
      "execution_count": null,
      "outputs": [
        {
          "data": {
            "image/png": "[encoded data removed]",
            "text/plain": [
              "<Figure size 432x288 with 1 Axes>"
            ]
          },
          "metadata": {},
          "output_type": "display_data"
        }
      ]
    },
    {
      "cell_type": "markdown",
      "metadata": {
        "id": "S01olP2CRwrZ"
      },
      "source": [
        "### Figure 1: Chi sq distribution of a sample of size 100 for a Chi square distribution with  100 degrees of freedom. "
      ]
    },
    {
      "cell_type": "markdown",
      "metadata": {
        "id": "vqqEjKbzRwrZ"
      },
      "source": [
        "## let numpy calculate what the mean and stdev of this distribution are"
      ]
    },
    {
      "cell_type": "code",
      "metadata": {
        "ExecuteTime": {
          "end_time": "2019-09-04T18:42:32.656167Z",
          "start_time": "2019-09-04T18:42:32.645619Z"
        },
        "id": "1XQWgHBYRwrZ",
        "outputId": "1c33b9de-e60e-4faf-e1b5-e2a7f17b09a0"
      },
      "source": [
        "print (\"Chisq mean: %.2f, standard deviation: %.2f\"%(md['chisq'].mean(), md['chisq'].std()))"
      ],
      "execution_count": null,
      "outputs": [
        {
          "name": "stdout",
          "output_type": "stream",
          "text": [
            "Chisq mean: 100.09, standard deviation: 13.24\n"
          ]
        }
      ]
    },
    {
      "cell_type": "markdown",
      "metadata": {
        "id": "weyYxkXqRwrZ"
      },
      "source": [
        "## Now let's do it for 100 Chisq distributions\n",
        "we want distributions of different sizes (all integers between 10 and 2000). It's a good idea to create more small distributions, cause, as we will see, their means will be more noisy (due to the law of large numbers which we discussed in class). Here are some tricks to create the distribution sizes "
      ]
    },
    {
      "cell_type": "code",
      "metadata": {
        "ExecuteTime": {
          "end_time": "2019-09-04T18:48:54.103615Z",
          "start_time": "2019-09-04T18:48:54.099189Z"
        },
        "colab": {
          "base_uri": "https://localhost:8080/"
        },
        "id": "9whn0HY9Rwra",
        "outputId": "44c374f0-cb76-4abf-aebd-e16b287024cc"
      },
      "source": [
        "mysize = (2000 / (np.array(range(1, 100, 2)))).astype(int)\n",
        "# mysize = 1000 / (np.array(range(1, 100) + [10]))\n",
        "# mysize = (np.random.rand(100) * 1000).astype(int)\n",
        "print (\"shape of the 'size' list that contains the size of each distribution\", mysize.shape)"
      ],
      "execution_count": 9,
      "outputs": [
        {
          "output_type": "stream",
          "name": "stdout",
          "text": [
            "shape of the 'size' list that contains the size of each distribution (50,)\n"
          ]
        }
      ]
    },
    {
      "cell_type": "code",
      "metadata": {
        "ExecuteTime": {
          "end_time": "2019-09-04T18:49:24.365207Z",
          "start_time": "2019-09-04T18:49:24.216832Z"
        },
        "colab": {
          "base_uri": "https://localhost:8080/",
          "height": 279
        },
        "id": "mVweODwPRwra",
        "outputId": "564896b4-fcc9-4bf9-9e81-6fe6d500cd5d"
      },
      "source": [
        "pl.plot(mysize, '.')\n",
        "pl.xlabel(\"index\")\n",
        "pl.ylabel(\"size of the distributions to be created\");"
      ],
      "execution_count": 10,
      "outputs": [
        {
          "output_type": "display_data",
          "data": {
            "image/png": "[encoded data removed]",
            "text/plain": [
              "<Figure size 432x288 with 1 Axes>"
            ]
          },
          "metadata": {}
        }
      ]
    },
    {
      "cell_type": "code",
      "metadata": {
        "ExecuteTime": {
          "end_time": "2019-09-04T18:51:25.020587Z",
          "start_time": "2019-09-04T18:51:24.613971Z"
        },
        "id": "XaaWi4FeRwra",
        "outputId": "b772d08f-2989-49df-9888-321820c71397"
      },
      "source": [
        "# I am gonna create a new dictionary \"md\" the dictionary entry created into a nested dictionary \n",
        "# the outside dictionary hosts the distributions as dictionary, \n",
        "# and each distribution dictionary contains the 100 distribution (arrays of diferent sizes)\n",
        "\n",
        "md['chisq'] = {} \n",
        "\n",
        "#and do it in a for loop. not pythonic, but easily readable\n",
        "\n",
        "for n in mysize:\n",
        "    md['chisq'][n] = np.random.chisquare(df, size = n) #all distributions have mean=df=100\n",
        "    \n",
        "# save the means for plotting later    \n",
        "\n",
        "md['chisq']['means'] = {}\n",
        "axchisq_mu_n = pl.figure(figsize=(10,6)).add_subplot(111)\n",
        "\n",
        "for nn in md['chisq']:\n",
        "    if not type(nn) == str:\n",
        "        md['chisq']['means'][nn] = md['chisq'][nn].mean()\n",
        "        #and plot it\n",
        "        axchisq_mu_n.plot(nn, md['chisq']['means'][nn], 'o')\n",
        "        axchisq_mu_n.set_xlabel('sample size', fontsize=18)\n",
        "        axchisq_mu_n.set_ylabel('sample mean', fontsize=18)\n",
        "        axchisq_mu_n.set_title('Chi squared', fontsize=18)\n",
        "        axchisq_mu_n.plot([min(mysize), max(mysize)], [df, df], 'k')\n",
        "axchisq_mu_n.text(axchisq_mu_n.get_xlim()[1] * .6, 100, \"expected mean\", \n",
        "                  va=\"bottom\", fontsize=20)"
      ],
      "execution_count": null,
      "outputs": [
        {
          "data": {
            "text/plain": [
              "Text(1259.3999999999999, 100, 'expected mean')"
            ]
          },
          "execution_count": 65,
          "metadata": {},
          "output_type": "execute_result"
        },
        {
          "data": {
            "image/png": "[encoded data removed]",
            "text/plain": [
              "<Figure size 720x432 with 1 Axes>"
            ]
          },
          "metadata": {},
          "output_type": "display_data"
        }
      ]
    },
    {
      "cell_type": "markdown",
      "metadata": {
        "id": "XKJ50Ll4Rwrc"
      },
      "source": [
        "### Figure 2: [describe what you see and how it relates to the law of large numbers]"
      ]
    },
    {
      "cell_type": "markdown",
      "metadata": {
        "id": "Fx7EiYL9Rwrc"
      },
      "source": [
        "# now the histogram of the mean of all samples: \n",
        "## this requires some data wrangling, since i put the data in a dictionary which is a user friendly data structure, but perhaps not the most machine friendly one\n",
        "\n",
        "a coder friendly, though not terribly pythonic way to do it is to append each mean in a list in a for loop, and then hist that. be careful: if your data size gets large this becomes a very bad idea!!"
      ]
    },
    {
      "cell_type": "code",
      "metadata": {
        "ExecuteTime": {
          "end_time": "2019-09-04T04:48:50.676579Z",
          "start_time": "2019-09-04T04:48:50.506157Z"
        },
        "id": "y_vcS_uuRwrd",
        "outputId": "c38b2b5e-bb74-4ba3-bc4b-426a5d513966"
      },
      "source": [
        "allmeans = list(md['chisq']['means'].values())\n",
        "\n",
        "pl.figure(figsize=(10, 10))\n",
        "pl.hist(allmeans,bins=30)\n",
        "pl.xlabel('sample mean', fontsize = 18)\n",
        "pl.ylabel('N', fontsize = 18)"
      ],
      "execution_count": null,
      "outputs": [
        {
          "data": {
            "text/plain": [
              "Text(0, 0.5, 'N')"
            ]
          },
          "execution_count": 39,
          "metadata": {},
          "output_type": "execute_result"
        },
        {
          "data": {
            "image/png": "[encoded data removed]",
            "text/plain": [
              "<Figure size 720x720 with 1 Axes>"
            ]
          },
          "metadata": {},
          "output_type": "display_data"
        }
      ]
    },
    {
      "cell_type": "markdown",
      "metadata": {
        "id": "PauosNfwRwrd"
      },
      "source": [
        "## Figure 3: [...]"
      ]
    },
    {
      "cell_type": "markdown",
      "metadata": {
        "collapsed": true,
        "id": "guYI9Y4LRwrd"
      },
      "source": [
        "# Do it for the Normal distribution\n"
      ]
    },
    {
      "cell_type": "code",
      "metadata": {
        "collapsed": true,
        "id": "sDBWQek2Rwrd"
      },
      "source": [
        "##your code here..."
      ],
      "execution_count": null,
      "outputs": []
    },
    {
      "cell_type": "markdown",
      "metadata": {
        "collapsed": true,
        "id": "KWp-52O_Rwrd"
      },
      "source": [
        "# Do it for the Poisson distribution"
      ]
    },
    {
      "cell_type": "code",
      "metadata": {
        "collapsed": true,
        "id": "ankH4mx_Rwrd"
      },
      "source": [
        "##your code here..."
      ],
      "execution_count": null,
      "outputs": []
    },
    {
      "cell_type": "markdown",
      "metadata": {
        "id": "MnwuGhVxRwrd"
      },
      "source": [
        "# Do it for the Binomial distribution"
      ]
    },
    {
      "cell_type": "code",
      "metadata": {
        "collapsed": true,
        "id": "9w-WbUR_Rwrd"
      },
      "source": [
        "##your code here..."
      ],
      "execution_count": null,
      "outputs": []
    },
    {
      "cell_type": "markdown",
      "metadata": {
        "id": "DZhHD6GZRwre"
      },
      "source": [
        "# Do it for another distribution"
      ]
    },
    {
      "cell_type": "code",
      "metadata": {
        "collapsed": true,
        "id": "PerSauZvRwre"
      },
      "source": [
        "##your code here..."
      ],
      "execution_count": null,
      "outputs": []
    },
    {
      "cell_type": "markdown",
      "metadata": {
        "collapsed": true,
        "id": "TjqCHR1rRwre"
      },
      "source": [
        "# 661 students: fita  a Gaussian to the histogram of the means for each distribution"
      ]
    },
    {
      "cell_type": "markdown",
      "metadata": {
        "id": "-wwVK-FNRwre"
      },
      "source": [
        "to fit a curve to data you can, for example, use scipy.optimize.curve_fit(). Your y value should be the hight of each histogram bin, which you can extract by capturing the output of pl.hist() when you plot the histogram. \n",
        "(be careful that the x axis and the y axis are not the same size when you extract them from the pl.hist function cause the x represents the **edges** while what you want is the **centers** of each bin"
      ]
    },
    {
      "cell_type": "code",
      "metadata": {
        "ExecuteTime": {
          "end_time": "2019-09-04T18:53:15.952372Z",
          "start_time": "2019-09-04T18:53:15.806867Z"
        },
        "id": "-z8TVkFPRwre",
        "outputId": "4c3117a3-18f9-4a5a-c46e-750d59f2cf15"
      },
      "source": [
        "pl.hist(allmeans,bins=30)"
      ],
      "execution_count": null,
      "outputs": [
        {
          "data": {
            "text/plain": [
              "(array([ 2.,  0.,  0.,  2.,  1.,  2.,  1.,  2.,  0.,  1.,  4.,  3.,  7.,\n",
              "        10.,  5.,  3.,  9.,  5.,  3.,  1.,  1.,  1.,  1.,  1.,  1.,  0.,\n",
              "         1.,  1.,  0.,  1.]),\n",
              " array([ 95.31364808,  95.65634848,  95.99904888,  96.34174927,\n",
              "         96.68444967,  97.02715007,  97.36985047,  97.71255087,\n",
              "         98.05525127,  98.39795166,  98.74065206,  99.08335246,\n",
              "         99.42605286,  99.76875326, 100.11145365, 100.45415405,\n",
              "        100.79685445, 101.13955485, 101.48225525, 101.82495565,\n",
              "        102.16765604, 102.51035644, 102.85305684, 103.19575724,\n",
              "        103.53845764, 103.88115804, 104.22385843, 104.56655883,\n",
              "        104.90925923, 105.25195963, 105.59466003]),\n",
              " <a list of 30 Patch objects>)"
            ]
          },
          "execution_count": 66,
          "metadata": {},
          "output_type": "execute_result"
        },
        {
          "data": {
            "image/png": "[encoded data removed]",
            "text/plain": [
              "<Figure size 432x288 with 1 Axes>"
            ]
          },
          "metadata": {},
          "output_type": "display_data"
        }
      ]
    },
    {
      "cell_type": "markdown",
      "metadata": {
        "id": "3RTcrKNMRwre"
      },
      "source": [
        "And you can create your own Gaussian function to pass to curve_fit as this for example: "
      ]
    },
    {
      "cell_type": "code",
      "metadata": {
        "ExecuteTime": {
          "end_time": "2019-09-04T18:55:42.467341Z",
          "start_time": "2019-09-04T18:55:42.463133Z"
        },
        "id": "DX_WtR_5Rwre"
      },
      "source": [
        "def gaussian(x, mu, sigma....):\n",
        "    ''' \n",
        "    REMEMBER TO WRITE A DOCSTRING THAT EXPLAINS WHAT A FUNCTION DOES EVERY TIME YOU WRITE A FUNCTION \n",
        "    https://www.python.org/dev/peps/pep-0257/\n",
        "    '''"
      ],
      "execution_count": null,
      "outputs": []
    },
    {
      "cell_type": "markdown",
      "metadata": {
        "id": "3HlZfrPGRwre"
      },
      "source": [
        "Or you can use existing functions (scipy has one, but it would be instructive for you to write it yourself!)"
      ]
    },
    {
      "cell_type": "code",
      "metadata": {
        "id": "n8d_GSQ7Rwre"
      },
      "source": [
        ""
      ],
      "execution_count": null,
      "outputs": []
    }
  ]
}