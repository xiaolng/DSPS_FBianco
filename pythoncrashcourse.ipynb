{
  "nbformat": 4,
  "nbformat_minor": 0,
  "metadata": {
    "kernelspec": {
      "display_name": "Python 3",
      "language": "python",
      "name": "python3"
    },
    "language_info": {
      "codemirror_mode": {
        "name": "ipython",
        "version": 3
      },
      "file_extension": ".py",
      "mimetype": "text/x-python",
      "name": "python",
      "nbconvert_exporter": "python",
      "pygments_lexer": "ipython3",
      "version": "3.6.8"
    },
    "colab": {
      "name": "pythoncrashcourse.ipynb",
      "provenance": [],
      "include_colab_link": true
    }
  },
  "cells": [
    {
      "cell_type": "markdown",
      "metadata": {
        "id": "view-in-github",
        "colab_type": "text"
      },
      "source": [
        "<a href=\"https://colab.research.google.com/github/fedhere/DSPS2021/blob/master/pythoncrashcourse.ipynb\" target=\"_parent\"><img src=\"https://colab.research.google.com/assets/colab-badge.svg\" alt=\"Open In Colab\"/></a>"
      ]
    },
    {
      "cell_type": "code",
      "metadata": {
        "id": "UKxiuUdFv1XT"
      },
      "source": [
        ""
      ],
      "execution_count": null,
      "outputs": []
    },
    {
      "cell_type": "code",
      "metadata": {
        "id": "f6uCVpTox3bA"
      },
      "source": [
        ""
      ],
      "execution_count": 1,
      "outputs": []
    },
    {
      "cell_type": "markdown",
      "metadata": {
        "id": "42uXvvK4wa4a"
      },
      "source": [
        "# python crash course by Xiaolong Li https://github.com/xiaolng\n",
        "\n",
        "a very short introduction to python\n",
        "\n",
        "**[basics](basics)**\n",
        "- [variables and data types](#variables-and-data-types) number, boolean, string, list, dictionary\n",
        "- [conditionals and loops](#conditionals-and-loops) if, for, while\n",
        "- [functions](#functions)\n",
        "- [classes](#classes)\n",
        "- [standard library](#standard-library)\n",
        "\n",
        "**[packages](#packages)**\n",
        "- [numpy/scipy](#numpy/scipy) numerical/scientific computing \n",
        "- [pandas](#pandas) data analysis and manipulation \n",
        "- [matplotlib](#matplotlib) visualization\n",
        "- [statsmodels](https://www.statsmodels.org/) statistical modeling\n",
        "- [sklearn](https://scikit-learn.org/) machine learning\n",
        "- [keras/tensorflow](https://keras.io) [pytorch](https://pytorch.org) deep learning\n",
        "\n",
        "**[resources](#resources)**"
      ]
    },
    {
      "cell_type": "code",
      "metadata": {
        "scrolled": true,
        "colab": {
          "base_uri": "https://localhost:8080/"
        },
        "id": "nHhICmknwa4m",
        "outputId": "ba4d8923-c536-447e-c380-008434fa3635"
      },
      "source": [
        "print(\"Hello world!\")"
      ],
      "execution_count": 2,
      "outputs": [
        {
          "output_type": "stream",
          "name": "stdout",
          "text": [
            "Hello world!\n"
          ]
        }
      ]
    },
    {
      "cell_type": "markdown",
      "metadata": {
        "id": "B7lHKHGhwa4o"
      },
      "source": [
        "## Basics"
      ]
    },
    {
      "cell_type": "markdown",
      "metadata": {
        "id": "XfdFHwrdwa4q"
      },
      "source": [
        "### variables and data types\n"
      ]
    },
    {
      "cell_type": "markdown",
      "metadata": {
        "id": "laseIUJHwa4r"
      },
      "source": [
        "##### numbers\n",
        "\n",
        "\n",
        "in python data types are implicitly declared: depending on how you write a number it may be stored as an integer or a float"
      ]
    },
    {
      "cell_type": "code",
      "metadata": {
        "id": "z4fwUJr7wa4r",
        "colab": {
          "base_uri": "https://localhost:8080/"
        },
        "outputId": "06979e91-90f4-46ae-d4ec-9e399d5456e2"
      },
      "source": [
        "# numbers\n",
        "\n",
        "x = 1   # integer\n",
        "y = 1.  # float\n",
        "\n",
        "z = x + y\n",
        "\n",
        "type(x), type(y), z"
      ],
      "execution_count": 3,
      "outputs": [
        {
          "output_type": "execute_result",
          "data": {
            "text/plain": [
              "(int, float, 2.0)"
            ]
          },
          "metadata": {},
          "execution_count": 3
        }
      ]
    },
    {
      "cell_type": "markdown",
      "metadata": {
        "id": "gTcDm7czwa4t"
      },
      "source": [
        "##### boolean\n",
        "\n",
        "bookean variables are important cause they enable conditional statement if something is true then do something, otherwise do something else"
      ]
    },
    {
      "cell_type": "code",
      "metadata": {
        "colab": {
          "base_uri": "https://localhost:8080/"
        },
        "id": "Xxn8q5z3wa4w",
        "outputId": "38e607a0-4e26-4bd0-8935-d4cfa5307532"
      },
      "source": [
        "True or False"
      ],
      "execution_count": 4,
      "outputs": [
        {
          "output_type": "execute_result",
          "data": {
            "text/plain": [
              "True"
            ]
          },
          "metadata": {},
          "execution_count": 4
        }
      ]
    },
    {
      "cell_type": "code",
      "metadata": {
        "colab": {
          "base_uri": "https://localhost:8080/"
        },
        "id": "UKQzNYyQwa4x",
        "outputId": "b60fa224-b986-4883-c7d3-6f1aa7e4ae65"
      },
      "source": [
        "True == 1 # True is actually mapped to 0, False to 1. This allows to use math to write statements"
      ],
      "execution_count": 5,
      "outputs": [
        {
          "output_type": "execute_result",
          "data": {
            "text/plain": [
              "True"
            ]
          },
          "metadata": {},
          "execution_count": 5
        }
      ]
    },
    {
      "cell_type": "code",
      "metadata": {
        "colab": {
          "base_uri": "https://localhost:8080/"
        },
        "id": "uyElzZ-pwa4y",
        "outputId": "2eb44b0c-be04-4408-8086-0cb3eaa8cd25"
      },
      "source": [
        "True & False  # and \n"
      ],
      "execution_count": 6,
      "outputs": [
        {
          "output_type": "execute_result",
          "data": {
            "text/plain": [
              "False"
            ]
          },
          "metadata": {},
          "execution_count": 6
        }
      ]
    },
    {
      "cell_type": "code",
      "metadata": {
        "colab": {
          "base_uri": "https://localhost:8080/"
        },
        "id": "TWZO-pa4x9Xq",
        "outputId": "5e96488a-0de7-4c91-f09e-b7271f79c4c1"
      },
      "source": [
        "\n",
        "True | False  # or"
      ],
      "execution_count": 7,
      "outputs": [
        {
          "output_type": "execute_result",
          "data": {
            "text/plain": [
              "True"
            ]
          },
          "metadata": {},
          "execution_count": 7
        }
      ]
    },
    {
      "cell_type": "markdown",
      "metadata": {
        "id": "YOP_8WN2wa4z"
      },
      "source": [
        "##### String"
      ]
    },
    {
      "cell_type": "code",
      "metadata": {
        "colab": {
          "base_uri": "https://localhost:8080/"
        },
        "id": "2zVhf8qUwa4z",
        "outputId": "1954ebe8-0259-4eba-8d87-f173bcefc558"
      },
      "source": [
        "# string\n",
        "\n",
        "x = \"hello world\"\n",
        "\n",
        "type(x), len(x), x[0]\n"
      ],
      "execution_count": 8,
      "outputs": [
        {
          "output_type": "execute_result",
          "data": {
            "text/plain": [
              "(str, 11, 'h')"
            ]
          },
          "metadata": {},
          "execution_count": 8
        }
      ]
    },
    {
      "cell_type": "markdown",
      "metadata": {
        "id": "yEp4xiynyQ8n"
      },
      "source": [
        "Data types are complex objects, they can have \"methods\" associated to them. The methods are invoked by a '.' after the variable. They are functions that are automaticallly applied to the variable that owns them. On Colab the methods availeble will show if you put a dot after a variable. (Functions are described below)"
      ]
    },
    {
      "cell_type": "code",
      "metadata": {
        "id": "grhOgN7lyhYU",
        "colab": {
          "base_uri": "https://localhost:8080/",
          "height": 129
        },
        "outputId": "20072fa6-4e7f-43a0-c199-ac98241f1c53"
      },
      "source": [
        "x."
      ],
      "execution_count": 9,
      "outputs": [
        {
          "output_type": "error",
          "ename": "SyntaxError",
          "evalue": "ignored",
          "traceback": [
            "\u001b[0;36m  File \u001b[0;32m\"<ipython-input-9-a2885923daf8>\"\u001b[0;36m, line \u001b[0;32m1\u001b[0m\n\u001b[0;31m    x.\u001b[0m\n\u001b[0m      ^\u001b[0m\n\u001b[0;31mSyntaxError\u001b[0m\u001b[0;31m:\u001b[0m invalid syntax\n"
          ]
        }
      ]
    },
    {
      "cell_type": "code",
      "metadata": {
        "colab": {
          "base_uri": "https://localhost:8080/"
        },
        "id": "djreFhiewa40",
        "outputId": "26ef3407-a826-4f28-d621-f7454b23ca81"
      },
      "source": [
        "x.split(\" \")"
      ],
      "execution_count": 10,
      "outputs": [
        {
          "output_type": "execute_result",
          "data": {
            "text/plain": [
              "['hello', 'world']"
            ]
          },
          "metadata": {},
          "execution_count": 10
        }
      ]
    },
    {
      "cell_type": "code",
      "metadata": {
        "colab": {
          "base_uri": "https://localhost:8080/"
        },
        "id": "EoelNEFpwa42",
        "outputId": "79277343-22a8-44a3-f616-355da0581b3b"
      },
      "source": [
        "# built-in string manipulate functions\n",
        "x.replace('l', 'L'), x.strip(\"h\")"
      ],
      "execution_count": 11,
      "outputs": [
        {
          "output_type": "execute_result",
          "data": {
            "text/plain": [
              "('heLLo worLd', 'ello world')"
            ]
          },
          "metadata": {},
          "execution_count": 11
        }
      ]
    },
    {
      "cell_type": "code",
      "metadata": {
        "scrolled": true,
        "colab": {
          "base_uri": "https://localhost:8080/",
          "height": 36
        },
        "id": "EHJXCQ0Fwa43",
        "outputId": "1d531a3d-4082-461c-8f47-37b53de0210b"
      },
      "source": [
        "x.upper()"
      ],
      "execution_count": 12,
      "outputs": [
        {
          "output_type": "execute_result",
          "data": {
            "application/vnd.google.colaboratory.intrinsic+json": {
              "type": "string"
            },
            "text/plain": [
              "'HELLO WORLD'"
            ]
          },
          "metadata": {},
          "execution_count": 12
        }
      ]
    },
    {
      "cell_type": "markdown",
      "metadata": {
        "id": "QofF0EJ7zAo9"
      },
      "source": [
        "strings are essentiallly lists on characters and inherit some behaviors from lists (see below)"
      ]
    },
    {
      "cell_type": "code",
      "metadata": {
        "colab": {
          "base_uri": "https://localhost:8080/",
          "height": 36
        },
        "id": "48TKKa62wa43",
        "outputId": "b7f978ac-2d8a-4013-ace3-8c835d226ccf"
      },
      "source": [
        "x * 3"
      ],
      "execution_count": 13,
      "outputs": [
        {
          "output_type": "execute_result",
          "data": {
            "application/vnd.google.colaboratory.intrinsic+json": {
              "type": "string"
            },
            "text/plain": [
              "'hello worldhello worldhello world'"
            ]
          },
          "metadata": {},
          "execution_count": 13
        }
      ]
    },
    {
      "cell_type": "code",
      "metadata": {
        "id": "cVMbTpx3wa43",
        "colab": {
          "base_uri": "https://localhost:8080/",
          "height": 36
        },
        "outputId": "c3f22325-1925-4864-e40a-c97fec8824ed"
      },
      "source": [
        "str(1) # convert number to string"
      ],
      "execution_count": 14,
      "outputs": [
        {
          "output_type": "execute_result",
          "data": {
            "application/vnd.google.colaboratory.intrinsic+json": {
              "type": "string"
            },
            "text/plain": [
              "'1'"
            ]
          },
          "metadata": {},
          "execution_count": 14
        }
      ]
    },
    {
      "cell_type": "markdown",
      "metadata": {
        "id": "i5Zw96VXwa44"
      },
      "source": [
        "##### list, tuple\n",
        "lists and tuples are python native containers: you can use them to store a set of vsariables together"
      ]
    },
    {
      "cell_type": "code",
      "metadata": {
        "colab": {
          "base_uri": "https://localhost:8080/"
        },
        "id": "YVv_C3uCwa44",
        "outputId": "a64d5739-93ec-4038-c407-5788abb68883"
      },
      "source": [
        "# list, many built-in methods\n",
        "x = [1, 'b', 2]\n",
        "x.append(3)\n",
        "x"
      ],
      "execution_count": 15,
      "outputs": [
        {
          "output_type": "execute_result",
          "data": {
            "text/plain": [
              "[1, 'b', 2, 3]"
            ]
          },
          "metadata": {},
          "execution_count": 15
        }
      ]
    },
    {
      "cell_type": "code",
      "metadata": {
        "colab": {
          "base_uri": "https://localhost:8080/"
        },
        "id": "Dex4M2lBwa45",
        "outputId": "c6158586-592e-40a0-b71b-9628aba6fbe9"
      },
      "source": [
        "x.pop(1) # remove item\n",
        "x"
      ],
      "execution_count": 16,
      "outputs": [
        {
          "output_type": "execute_result",
          "data": {
            "text/plain": [
              "[1, 2, 3]"
            ]
          },
          "metadata": {},
          "execution_count": 16
        }
      ]
    },
    {
      "cell_type": "code",
      "metadata": {
        "colab": {
          "base_uri": "https://localhost:8080/"
        },
        "id": "GURmvxQowa45",
        "outputId": "716fab30-3da2-4ae7-c708-d2f66cd7c4f9"
      },
      "source": [
        "x[2:4]"
      ],
      "execution_count": 17,
      "outputs": [
        {
          "output_type": "execute_result",
          "data": {
            "text/plain": [
              "[3]"
            ]
          },
          "metadata": {},
          "execution_count": 17
        }
      ]
    },
    {
      "cell_type": "code",
      "metadata": {
        "colab": {
          "base_uri": "https://localhost:8080/"
        },
        "id": "C9FkL0Vgwa45",
        "outputId": "049aa074-bab4-458d-fce8-17973df88dce"
      },
      "source": [
        "x[-2]"
      ],
      "execution_count": 18,
      "outputs": [
        {
          "output_type": "execute_result",
          "data": {
            "text/plain": [
              "2"
            ]
          },
          "metadata": {},
          "execution_count": 18
        }
      ]
    },
    {
      "cell_type": "code",
      "metadata": {
        "colab": {
          "base_uri": "https://localhost:8080/"
        },
        "id": "SB3ELDSBwa46",
        "outputId": "543bb001-2fc5-4626-f61f-d84a90f526fa"
      },
      "source": [
        "1 in x"
      ],
      "execution_count": 19,
      "outputs": [
        {
          "output_type": "execute_result",
          "data": {
            "text/plain": [
              "True"
            ]
          },
          "metadata": {},
          "execution_count": 19
        }
      ]
    },
    {
      "cell_type": "code",
      "metadata": {
        "colab": {
          "base_uri": "https://localhost:8080/"
        },
        "id": "AeCx_sb_wa46",
        "outputId": "d04ba637-67f0-49a2-f9db-edcc2aa7e8ac"
      },
      "source": [
        "# tuples, does not support item assignment, if you put things in tuples they are \"safe\" and cannot be changed\n",
        "x = (1, 'b')\n",
        "x"
      ],
      "execution_count": 20,
      "outputs": [
        {
          "output_type": "execute_result",
          "data": {
            "text/plain": [
              "(1, 'b')"
            ]
          },
          "metadata": {},
          "execution_count": 20
        }
      ]
    },
    {
      "cell_type": "code",
      "metadata": {
        "colab": {
          "base_uri": "https://localhost:8080/",
          "height": 162
        },
        "id": "u430L1Rtz_vc",
        "outputId": "1fcb2fe1-e4b7-41f1-c856-af97a1573cec"
      },
      "source": [
        "x[0] = 2"
      ],
      "execution_count": 21,
      "outputs": [
        {
          "output_type": "error",
          "ename": "TypeError",
          "evalue": "ignored",
          "traceback": [
            "\u001b[0;31m---------------------------------------------------------------------------\u001b[0m",
            "\u001b[0;31mTypeError\u001b[0m                                 Traceback (most recent call last)",
            "\u001b[0;32m<ipython-input-21-ebac946b3580>\u001b[0m in \u001b[0;36m<module>\u001b[0;34m()\u001b[0m\n\u001b[0;32m----> 1\u001b[0;31m \u001b[0mx\u001b[0m\u001b[0;34m[\u001b[0m\u001b[0;36m0\u001b[0m\u001b[0;34m]\u001b[0m \u001b[0;34m=\u001b[0m \u001b[0;36m2\u001b[0m\u001b[0;34m\u001b[0m\u001b[0;34m\u001b[0m\u001b[0m\n\u001b[0m",
            "\u001b[0;31mTypeError\u001b[0m: 'tuple' object does not support item assignment"
          ]
        }
      ]
    },
    {
      "cell_type": "markdown",
      "metadata": {
        "id": "I_ueK4MAwa47"
      },
      "source": [
        "##### dictionary\n",
        "dictionaries are key-value paired containers: each element has a name by which you can retrieve it"
      ]
    },
    {
      "cell_type": "code",
      "metadata": {
        "id": "Yo6ZtzQkwa47"
      },
      "source": [
        "# dictionary\n",
        "dic ={'one':1, 'two':2, 'three':3}\n",
        "\n"
      ],
      "execution_count": 22,
      "outputs": []
    },
    {
      "cell_type": "code",
      "metadata": {
        "scrolled": true,
        "colab": {
          "base_uri": "https://localhost:8080/"
        },
        "id": "I-CT8DH2wa47",
        "outputId": "a1f5f9d6-d1fd-493f-9173-4f6c365dbb5d"
      },
      "source": [
        "dic.keys()"
      ],
      "execution_count": 23,
      "outputs": [
        {
          "output_type": "execute_result",
          "data": {
            "text/plain": [
              "dict_keys(['one', 'two', 'three'])"
            ]
          },
          "metadata": {},
          "execution_count": 23
        }
      ]
    },
    {
      "cell_type": "code",
      "metadata": {
        "colab": {
          "base_uri": "https://localhost:8080/"
        },
        "id": "cs_JDeQYwa48",
        "outputId": "97bb86ec-bd6d-409c-d22b-28ca59c02072"
      },
      "source": [
        "dic['one']"
      ],
      "execution_count": 24,
      "outputs": [
        {
          "output_type": "execute_result",
          "data": {
            "text/plain": [
              "1"
            ]
          },
          "metadata": {},
          "execution_count": 24
        }
      ]
    },
    {
      "cell_type": "code",
      "metadata": {
        "colab": {
          "base_uri": "https://localhost:8080/"
        },
        "id": "3PJ4VuPnwa48",
        "outputId": "85768165-1082-418b-9f05-96c39337e661"
      },
      "source": [
        "# append to dict\n",
        "dic['four'] = 4\n",
        "dic"
      ],
      "execution_count": 25,
      "outputs": [
        {
          "output_type": "execute_result",
          "data": {
            "text/plain": [
              "{'four': 4, 'one': 1, 'three': 3, 'two': 2}"
            ]
          },
          "metadata": {},
          "execution_count": 25
        }
      ]
    },
    {
      "cell_type": "markdown",
      "metadata": {
        "id": "D2eVhSAPwa48"
      },
      "source": [
        "## conditionals and loops"
      ]
    },
    {
      "cell_type": "markdown",
      "metadata": {
        "id": "65nKtGGtwa49"
      },
      "source": [
        "##### if statement"
      ]
    },
    {
      "cell_type": "code",
      "metadata": {
        "id": "7HvMRHgJwa5A",
        "colab": {
          "base_uri": "https://localhost:8080/"
        },
        "outputId": "ab7e9750-5c65-4ce5-88fe-85b29c77639e"
      },
      "source": [
        "x = 2\n",
        "if x == 1:\n",
        "    print(\"1\")\n",
        "else:\n",
        "    print(' not 1')"
      ],
      "execution_count": 26,
      "outputs": [
        {
          "output_type": "stream",
          "name": "stdout",
          "text": [
            " not 1\n"
          ]
        }
      ]
    },
    {
      "cell_type": "code",
      "metadata": {
        "id": "S-uOWQ3zwa5B",
        "colab": {
          "base_uri": "https://localhost:8080/"
        },
        "outputId": "eb2557a2-6a64-4c57-8cd5-f08c526bcd50"
      },
      "source": [
        "x = 2\n",
        "\n",
        "if x == 1:\n",
        "    print(\"1\")\n",
        "elif x == 2:\n",
        "    print(\"2\")\n",
        "elif x == 3:\n",
        "    print(\"3\")\n",
        "else:\n",
        "    print(\"others\")"
      ],
      "execution_count": 27,
      "outputs": [
        {
          "output_type": "stream",
          "name": "stdout",
          "text": [
            "2\n"
          ]
        }
      ]
    },
    {
      "cell_type": "markdown",
      "metadata": {
        "id": "zuYnxDGYwa5B"
      },
      "source": [
        "##### for loop"
      ]
    },
    {
      "cell_type": "code",
      "metadata": {
        "id": "JcPSnqpWwa5C",
        "colab": {
          "base_uri": "https://localhost:8080/"
        },
        "outputId": "53929d18-b551-4226-b1e0-47e6fdd40299"
      },
      "source": [
        "for i in range(3):\n",
        "    print(i)"
      ],
      "execution_count": 28,
      "outputs": [
        {
          "output_type": "stream",
          "name": "stdout",
          "text": [
            "0\n",
            "1\n",
            "2\n"
          ]
        }
      ]
    },
    {
      "cell_type": "code",
      "metadata": {
        "id": "34Px_2O-wa5C",
        "colab": {
          "base_uri": "https://localhost:8080/"
        },
        "outputId": "fb5539ab-bdc1-43b7-aa58-a39bbc3978aa"
      },
      "source": [
        "# use zip to loop over multiple variables\n",
        "\n",
        "x = ['a', 'b', 'c', ]\n",
        "y = [1, 2, 3]\n",
        "\n",
        "for i, j in zip(x, y):\n",
        "    print(i, j)"
      ],
      "execution_count": 29,
      "outputs": [
        {
          "output_type": "stream",
          "name": "stdout",
          "text": [
            "a 1\n",
            "b 2\n",
            "c 3\n"
          ]
        }
      ]
    },
    {
      "cell_type": "code",
      "metadata": {
        "id": "ulI15gwbwa5C",
        "colab": {
          "base_uri": "https://localhost:8080/"
        },
        "outputId": "de2a275f-225a-465e-bfdd-dd3345ffc386"
      },
      "source": [
        "# use enumerate get index of each loop\n",
        "\n",
        "x = ['a', 'b', 'c', ]\n",
        "\n",
        "for i, xi in enumerate(x):\n",
        "        print(i, xi)\n",
        "    "
      ],
      "execution_count": 30,
      "outputs": [
        {
          "output_type": "stream",
          "name": "stdout",
          "text": [
            "0 a\n",
            "1 b\n",
            "2 c\n"
          ]
        }
      ]
    },
    {
      "cell_type": "markdown",
      "metadata": {
        "id": "3tx_xYwEwa5D"
      },
      "source": [
        "##### while loop"
      ]
    },
    {
      "cell_type": "code",
      "metadata": {
        "id": "Q6WUVjrWwa5D",
        "colab": {
          "base_uri": "https://localhost:8080/"
        },
        "outputId": "626d7775-3ae2-4f38-8885-18a40a19c984"
      },
      "source": [
        "x = 0\n",
        "while x < 3:\n",
        "    print(x)\n",
        "    x += 1\n",
        "    "
      ],
      "execution_count": 31,
      "outputs": [
        {
          "output_type": "stream",
          "name": "stdout",
          "text": [
            "0\n",
            "1\n",
            "2\n"
          ]
        }
      ]
    },
    {
      "cell_type": "markdown",
      "metadata": {
        "id": "G73-SGG0wa5D"
      },
      "source": [
        "## functions"
      ]
    },
    {
      "cell_type": "code",
      "metadata": {
        "id": "iKZtc0Lfwa5D"
      },
      "source": [
        "def add(a=0, b=0):\n",
        "    \"\"\"\n",
        "    Add two numbers\n",
        "    Args:\n",
        "        a: number, default 0\n",
        "        b: number, default 0\n",
        "    \n",
        "    Returns:\n",
        "        return the sum\n",
        "    \n",
        "    \"\"\"\n",
        "    result = a + b\n",
        "    return result"
      ],
      "execution_count": 32,
      "outputs": []
    },
    {
      "cell_type": "markdown",
      "metadata": {
        "id": "SMntzUlEuc4H"
      },
      "source": [
        "the bit between \"\"\" and \"\"\" is called a \"docstring\" and all functions should have one to describe input, output, and puspose"
      ]
    },
    {
      "cell_type": "code",
      "metadata": {
        "id": "sgU4Kzhzwa5E",
        "colab": {
          "base_uri": "https://localhost:8080/"
        },
        "outputId": "8c3b3ec1-b3fa-4268-89b4-0886e9de0a96"
      },
      "source": [
        "add(1, 2)"
      ],
      "execution_count": 33,
      "outputs": [
        {
          "output_type": "execute_result",
          "data": {
            "text/plain": [
              "3"
            ]
          },
          "metadata": {},
          "execution_count": 33
        }
      ]
    },
    {
      "cell_type": "markdown",
      "metadata": {
        "id": "KZ0bIH3Kwa5E"
      },
      "source": [
        "## classes\n",
        "\n",
        "Creating a new class creates a new type of object, like a complex variable that has inside of itself variables and methods"
      ]
    },
    {
      "cell_type": "code",
      "metadata": {
        "id": "VsLvUxRfwa5E"
      },
      "source": [
        "class Car:\n",
        "    def __init__(self,brand,**kwargs):\n",
        "        self.brand = brand\n",
        "        self.kwargs = kwargs\n",
        "        \n",
        "    def get_brand(self):\n",
        "        return self.brand\n",
        "    \n",
        "    def get_prams(self):\n",
        "        return self.kwargs\n"
      ],
      "execution_count": 34,
      "outputs": []
    },
    {
      "cell_type": "code",
      "metadata": {
        "id": "8z-DJ6XAwa5E"
      },
      "source": [
        "# Instantiate\n",
        "newCar = Car('BMW', price=10000, color='red', model='m')\n"
      ],
      "execution_count": 35,
      "outputs": []
    },
    {
      "cell_type": "markdown",
      "metadata": {
        "id": "Z70xRqcmu1x6"
      },
      "source": [
        "after a class is defined, an object of the class is creted by \"instantiating\" it, defining all required values\n"
      ]
    },
    {
      "cell_type": "code",
      "metadata": {
        "id": "Kfo2ABYZwa5F",
        "colab": {
          "base_uri": "https://localhost:8080/",
          "height": 36
        },
        "outputId": "8dc142fa-a590-4821-ad97-b3debdff8400"
      },
      "source": [
        "newCar.get_brand()\n"
      ],
      "execution_count": 36,
      "outputs": [
        {
          "output_type": "execute_result",
          "data": {
            "application/vnd.google.colaboratory.intrinsic+json": {
              "type": "string"
            },
            "text/plain": [
              "'BMW'"
            ]
          },
          "metadata": {},
          "execution_count": 36
        }
      ]
    },
    {
      "cell_type": "code",
      "metadata": {
        "id": "nPvt88nHwa5F",
        "colab": {
          "base_uri": "https://localhost:8080/"
        },
        "outputId": "a1771878-065b-4b6c-9dd7-a9576f4d8bd9"
      },
      "source": [
        "newCar.get_prams()"
      ],
      "execution_count": 37,
      "outputs": [
        {
          "output_type": "execute_result",
          "data": {
            "text/plain": [
              "{'color': 'red', 'model': 'm', 'price': 10000}"
            ]
          },
          "metadata": {},
          "execution_count": 37
        }
      ]
    },
    {
      "cell_type": "markdown",
      "metadata": {
        "id": "FAUkwDqPwa5F"
      },
      "source": [
        "##### Inheritance: a class can contain the initialization of another (parent) class"
      ]
    },
    {
      "cell_type": "code",
      "metadata": {
        "id": "vpAJUdoYwa5G"
      },
      "source": [
        "class Coupe(Car):\n",
        "    def __init__(self, brand,**kwargs):\n",
        "        super().__init__(brand,**kwargs) # works in phthon 3 \n",
        "        #super(Coupe, self).__init__(brand,**kwargs)  # works in python 2/3\n",
        "        \n",
        "    def test(self):\n",
        "        print(' class works')\n",
        "        \n",
        "    def __str__(self):\n",
        "        # for print \n",
        "        return self.brand\n"
      ],
      "execution_count": 38,
      "outputs": []
    },
    {
      "cell_type": "code",
      "metadata": {
        "id": "CesDgbkJwa5G",
        "colab": {
          "base_uri": "https://localhost:8080/"
        },
        "outputId": "4bd6b951-562c-4703-a133-37127893398c"
      },
      "source": [
        "# Instantiate\n",
        "newCoupe = Coupe('BMW', price=10000, color='red', model='m')\n",
        "\n",
        "newCoupe.test()"
      ],
      "execution_count": 39,
      "outputs": [
        {
          "output_type": "stream",
          "name": "stdout",
          "text": [
            " class works\n"
          ]
        }
      ]
    },
    {
      "cell_type": "code",
      "metadata": {
        "colab": {
          "base_uri": "https://localhost:8080/",
          "height": 36
        },
        "id": "I4Y6WNvvvL9V",
        "outputId": "9bf70df4-4415-4b7d-bcd9-0a7d1c30b472"
      },
      "source": [
        "newCoupe.__str__()"
      ],
      "execution_count": 40,
      "outputs": [
        {
          "output_type": "execute_result",
          "data": {
            "application/vnd.google.colaboratory.intrinsic+json": {
              "type": "string"
            },
            "text/plain": [
              "'BMW'"
            ]
          },
          "metadata": {},
          "execution_count": 40
        }
      ]
    },
    {
      "cell_type": "markdown",
      "metadata": {
        "id": "AIO87e4qwa5H"
      },
      "source": [
        "## standard library\n",
        "\n",
        "Python comes with a standard library of modules for performing common tasks, \n",
        "\n",
        "all built-in modules https://docs.python.org/3/library/"
      ]
    },
    {
      "cell_type": "markdown",
      "metadata": {
        "id": "qcELcqndwa5H"
      },
      "source": [
        "##### interact with system"
      ]
    },
    {
      "cell_type": "code",
      "metadata": {
        "id": "JA79OT5qwa5H"
      },
      "source": [
        "import os"
      ],
      "execution_count": 47,
      "outputs": []
    },
    {
      "cell_type": "code",
      "metadata": {
        "id": "9UanDmfBwa5H",
        "colab": {
          "base_uri": "https://localhost:8080/",
          "height": 36
        },
        "outputId": "ac26e97f-d575-4170-b0f0-5ff7003a2ade"
      },
      "source": [
        "os.getcwd()  # return the current working directory\n",
        "#os.chdir()  # change working dir\n"
      ],
      "execution_count": 48,
      "outputs": [
        {
          "output_type": "execute_result",
          "data": {
            "application/vnd.google.colaboratory.intrinsic+json": {
              "type": "string"
            },
            "text/plain": [
              "'/content'"
            ]
          },
          "metadata": {},
          "execution_count": 48
        }
      ]
    },
    {
      "cell_type": "code",
      "metadata": {
        "id": "r42oKMcYwa5I",
        "colab": {
          "base_uri": "https://localhost:8080/"
        },
        "outputId": "219160ed-d939-47a3-b4a8-200d9cf2d4d6"
      },
      "source": [
        "os.system('mkdir something') # run a terminal command"
      ],
      "execution_count": 51,
      "outputs": [
        {
          "output_type": "execute_result",
          "data": {
            "text/plain": [
              "0"
            ]
          },
          "metadata": {},
          "execution_count": 51
        }
      ]
    },
    {
      "cell_type": "markdown",
      "metadata": {
        "id": "3ncNoqjvv3My"
      },
      "source": [
        "returns the code of the command https://man7.org/linux/man-pages/man1/mkdir.1.html"
      ]
    },
    {
      "cell_type": "markdown",
      "metadata": {
        "id": "CCJ_xsnlwa5I"
      },
      "source": [
        "##### accessing files in your working folder"
      ]
    },
    {
      "cell_type": "code",
      "metadata": {
        "id": "gR9UhlN-wa5I"
      },
      "source": [
        "import glob"
      ],
      "execution_count": 52,
      "outputs": []
    },
    {
      "cell_type": "markdown",
      "metadata": {
        "id": "VGH6NchXvkvW"
      },
      "source": [
        "useful to list files inside of the directory in which you are working (I have no files ending in \".py\" here)"
      ]
    },
    {
      "cell_type": "code",
      "metadata": {
        "scrolled": true,
        "id": "OL2kwZkMwa5I",
        "colab": {
          "base_uri": "https://localhost:8080/"
        },
        "outputId": "910c9419-eea4-4026-f4b8-01d95d0ecf78"
      },
      "source": [
        "glob.glob(\"*.py\")"
      ],
      "execution_count": 53,
      "outputs": [
        {
          "output_type": "execute_result",
          "data": {
            "text/plain": [
              "[]"
            ]
          },
          "metadata": {},
          "execution_count": 53
        }
      ]
    },
    {
      "cell_type": "code",
      "metadata": {
        "colab": {
          "base_uri": "https://localhost:8080/"
        },
        "id": "v6ItV0J1wfHI",
        "outputId": "48f842c1-e543-4959-fe58-70843748908d"
      },
      "source": [
        "glob.glob(\"*\")"
      ],
      "execution_count": 55,
      "outputs": [
        {
          "output_type": "execute_result",
          "data": {
            "text/plain": [
              "['today', 'something', 'sample_data']"
            ]
          },
          "metadata": {},
          "execution_count": 55
        }
      ]
    },
    {
      "cell_type": "markdown",
      "metadata": {
        "id": "7xTW9qHjwPBi"
      },
      "source": [
        "I can also access terminal command by using ! at the beginning of the line if I am working in a notebook. Here \"ls\" stands for list, and lists all files in this directory"
      ]
    },
    {
      "cell_type": "code",
      "metadata": {
        "colab": {
          "base_uri": "https://localhost:8080/"
        },
        "id": "xalWXmofwKw4",
        "outputId": "68f9acba-f72f-4fe8-8e4c-33bd6bcd500d"
      },
      "source": [
        "!ls"
      ],
      "execution_count": 54,
      "outputs": [
        {
          "output_type": "stream",
          "name": "stdout",
          "text": [
            "sample_data  something\ttoday\n"
          ]
        }
      ]
    },
    {
      "cell_type": "markdown",
      "metadata": {
        "id": "N--Tv8npwa5J"
      },
      "source": [
        "##### random\n",
        "random variables are going to be super important for us!"
      ]
    },
    {
      "cell_type": "markdown",
      "metadata": {
        "id": "zOXwv_nbwa5L"
      },
      "source": [
        "# packages\n"
      ]
    },
    {
      "cell_type": "code",
      "metadata": {
        "id": "IYQ-8Vbtwa5K",
        "colab": {
          "base_uri": "https://localhost:8080/",
          "height": 36
        },
        "outputId": "a2229cd5-1a02-473c-f7c1-84ad40f7f15d"
      },
      "source": [
        "from numpy import random\n",
        "\n",
        "random.choice(['apple', 'pear', 'banana'])\n"
      ],
      "execution_count": 64,
      "outputs": [
        {
          "output_type": "execute_result",
          "data": {
            "application/vnd.google.colaboratory.intrinsic+json": {
              "type": "string"
            },
            "text/plain": [
              "'banana'"
            ]
          },
          "metadata": {},
          "execution_count": 64
        }
      ]
    },
    {
      "cell_type": "code",
      "metadata": {
        "colab": {
          "base_uri": "https://localhost:8080/"
        },
        "id": "6_T9sRTfwoB4",
        "outputId": "dda19f4b-0325-43ad-d8bb-16d625f10a72"
      },
      "source": [
        "random.randint(0,10) #random integer between 0 and 10"
      ],
      "execution_count": 65,
      "outputs": [
        {
          "output_type": "execute_result",
          "data": {
            "text/plain": [
              "8"
            ]
          },
          "metadata": {},
          "execution_count": 65
        }
      ]
    },
    {
      "cell_type": "code",
      "metadata": {
        "colab": {
          "base_uri": "https://localhost:8080/"
        },
        "id": "Qrf3wcmVw1QJ",
        "outputId": "72b6a94d-f788-4520-ba3f-3f106430bdef"
      },
      "source": [
        "random.randn(2,3) # 6 numbers each a random drawin a gaussian distribution with mean 0 and standard deviation 1 organized as a 2x3 array"
      ],
      "execution_count": 69,
      "outputs": [
        {
          "output_type": "execute_result",
          "data": {
            "text/plain": [
              "array([[ 0.19473473,  0.6750933 , -1.83021753],\n",
              "       [-0.31215882, -0.29824092, -0.06436665]])"
            ]
          },
          "metadata": {},
          "execution_count": 69
        }
      ]
    },
    {
      "cell_type": "markdown",
      "metadata": {
        "id": "ppNd3Blewa5L"
      },
      "source": [
        "## numpy/scipy\n",
        "numpy is the core module for linear algebra and multidimensional arrays; scipy provides additional functions for scientific computing"
      ]
    },
    {
      "cell_type": "code",
      "metadata": {
        "id": "lr4n3MiKwa5M"
      },
      "source": [
        "import numpy as np\n",
        "import scipy as sp\n"
      ],
      "execution_count": 70,
      "outputs": []
    },
    {
      "cell_type": "code",
      "metadata": {
        "id": "c9HcPiXOwa5M",
        "colab": {
          "base_uri": "https://localhost:8080/"
        },
        "outputId": "c47928e4-ca18-4937-f1f3-cbfb8faba424"
      },
      "source": [
        "# create an array\n",
        "a = np.array([1,2,3])\n",
        "b = np.array([(1.5,2,3), (4,5,6)], dtype = np.float32)\n",
        "c = np.random.random([3, 3])\n",
        "c"
      ],
      "execution_count": 71,
      "outputs": [
        {
          "output_type": "execute_result",
          "data": {
            "text/plain": [
              "array([[0.62274266, 0.37133858, 0.99875643],\n",
              "       [0.9585066 , 0.49238662, 0.41288253],\n",
              "       [0.08803071, 0.07511918, 0.76451357]])"
            ]
          },
          "metadata": {},
          "execution_count": 71
        }
      ]
    },
    {
      "cell_type": "code",
      "metadata": {
        "id": "-ihMV1xbwa5M",
        "colab": {
          "base_uri": "https://localhost:8080/"
        },
        "outputId": "61b70b0c-1455-477b-fcd7-099b9b184145"
      },
      "source": [
        "c.size, c.shape, c.ndim"
      ],
      "execution_count": 72,
      "outputs": [
        {
          "output_type": "execute_result",
          "data": {
            "text/plain": [
              "(9, (3, 3), 2)"
            ]
          },
          "metadata": {},
          "execution_count": 72
        }
      ]
    },
    {
      "cell_type": "code",
      "metadata": {
        "id": "1tBdI0Onwa5M",
        "colab": {
          "base_uri": "https://localhost:8080/"
        },
        "outputId": "8fcb3198-58fe-4315-db3c-fe11a056a7bf"
      },
      "source": [
        "# slicing\n",
        "c[:, 2:]"
      ],
      "execution_count": 73,
      "outputs": [
        {
          "output_type": "execute_result",
          "data": {
            "text/plain": [
              "array([[0.99875643],\n",
              "       [0.41288253],\n",
              "       [0.76451357]])"
            ]
          },
          "metadata": {},
          "execution_count": 73
        }
      ]
    },
    {
      "cell_type": "code",
      "metadata": {
        "id": "ft8eu0cTwa5N",
        "colab": {
          "base_uri": "https://localhost:8080/"
        },
        "outputId": "3e7c305f-db27-4972-84a7-38eaf975f7b0"
      },
      "source": [
        "c + 1  # broadcasting"
      ],
      "execution_count": 74,
      "outputs": [
        {
          "output_type": "execute_result",
          "data": {
            "text/plain": [
              "array([[1.62274266, 1.37133858, 1.99875643],\n",
              "       [1.9585066 , 1.49238662, 1.41288253],\n",
              "       [1.08803071, 1.07511918, 1.76451357]])"
            ]
          },
          "metadata": {},
          "execution_count": 74
        }
      ]
    },
    {
      "cell_type": "code",
      "metadata": {
        "id": "ABqOjAbgwa5N",
        "colab": {
          "base_uri": "https://localhost:8080/"
        },
        "outputId": "58df6df2-3e35-4eb9-9463-6f6aea8f1619"
      },
      "source": [
        "np.exp(c)"
      ],
      "execution_count": 75,
      "outputs": [
        {
          "output_type": "execute_result",
          "data": {
            "text/plain": [
              "array([[1.86403345, 1.44967383, 2.71490356],\n",
              "       [2.60779908, 1.6362166 , 1.5111675 ],\n",
              "       [1.09202165, 1.07801263, 2.1479493 ]])"
            ]
          },
          "metadata": {},
          "execution_count": 75
        }
      ]
    },
    {
      "cell_type": "markdown",
      "metadata": {
        "id": "ELciK7gewa5N"
      },
      "source": [
        "## pandas\n",
        "library for data manipulation"
      ]
    },
    {
      "cell_type": "code",
      "metadata": {
        "id": "_BtLPraUwa5O"
      },
      "source": [
        "import pandas as pd"
      ],
      "execution_count": 76,
      "outputs": []
    },
    {
      "cell_type": "code",
      "metadata": {
        "id": "Ip1XnMJKwa5O",
        "colab": {
          "base_uri": "https://localhost:8080/",
          "height": 141
        },
        "outputId": "923614a8-1f11-4b24-c4f4-7a93c636610f"
      },
      "source": [
        "df = pd.DataFrame(columns=['a', 'b', 'c'])\n",
        "\n",
        "df['a'] = ['a1', 'a2', 'a3'] \n",
        "df['b'] = ['b1', 'b2', 'b3'] \n",
        "df['c'] = ['c1', 'c2', 'c3'] \n",
        "df.head(3)"
      ],
      "execution_count": 77,
      "outputs": [
        {
          "output_type": "execute_result",
          "data": {
            "text/html": [
              "<div>\n",
              "<style scoped>\n",
              "    .dataframe tbody tr th:only-of-type {\n",
              "        vertical-align: middle;\n",
              "    }\n",
              "\n",
              "    .dataframe tbody tr th {\n",
              "        vertical-align: top;\n",
              "    }\n",
              "\n",
              "    .dataframe thead th {\n",
              "        text-align: right;\n",
              "    }\n",
              "</style>\n",
              "<table border=\"1\" class=\"dataframe\">\n",
              "  <thead>\n",
              "    <tr style=\"text-align: right;\">\n",
              "      <th></th>\n",
              "      <th>a</th>\n",
              "      <th>b</th>\n",
              "      <th>c</th>\n",
              "    </tr>\n",
              "  </thead>\n",
              "  <tbody>\n",
              "    <tr>\n",
              "      <th>0</th>\n",
              "      <td>a1</td>\n",
              "      <td>b1</td>\n",
              "      <td>c1</td>\n",
              "    </tr>\n",
              "    <tr>\n",
              "      <th>1</th>\n",
              "      <td>a2</td>\n",
              "      <td>b2</td>\n",
              "      <td>c2</td>\n",
              "    </tr>\n",
              "    <tr>\n",
              "      <th>2</th>\n",
              "      <td>a3</td>\n",
              "      <td>b3</td>\n",
              "      <td>c3</td>\n",
              "    </tr>\n",
              "  </tbody>\n",
              "</table>\n",
              "</div>"
            ],
            "text/plain": [
              "    a   b   c\n",
              "0  a1  b1  c1\n",
              "1  a2  b2  c2\n",
              "2  a3  b3  c3"
            ]
          },
          "metadata": {},
          "execution_count": 77
        }
      ]
    },
    {
      "cell_type": "code",
      "metadata": {
        "id": "vwcDkOIcwa5P",
        "colab": {
          "base_uri": "https://localhost:8080/"
        },
        "outputId": "3e22e307-dd99-45b5-e98c-90f574549b88"
      },
      "source": [
        "df.iloc[2]"
      ],
      "execution_count": 78,
      "outputs": [
        {
          "output_type": "execute_result",
          "data": {
            "text/plain": [
              "a    a3\n",
              "b    b3\n",
              "c    c3\n",
              "Name: 2, dtype: object"
            ]
          },
          "metadata": {},
          "execution_count": 78
        }
      ]
    },
    {
      "cell_type": "code",
      "metadata": {
        "id": "VO_6XaTHwa5Q",
        "colab": {
          "base_uri": "https://localhost:8080/",
          "height": 171
        },
        "outputId": "3a2d9dd4-4444-434b-ed68-2aee97b70f93"
      },
      "source": [
        "df.append({'a':'a4', 'b':'b4', 'c':'c4'}, ignore_index=True)"
      ],
      "execution_count": 79,
      "outputs": [
        {
          "output_type": "execute_result",
          "data": {
            "text/html": [
              "<div>\n",
              "<style scoped>\n",
              "    .dataframe tbody tr th:only-of-type {\n",
              "        vertical-align: middle;\n",
              "    }\n",
              "\n",
              "    .dataframe tbody tr th {\n",
              "        vertical-align: top;\n",
              "    }\n",
              "\n",
              "    .dataframe thead th {\n",
              "        text-align: right;\n",
              "    }\n",
              "</style>\n",
              "<table border=\"1\" class=\"dataframe\">\n",
              "  <thead>\n",
              "    <tr style=\"text-align: right;\">\n",
              "      <th></th>\n",
              "      <th>a</th>\n",
              "      <th>b</th>\n",
              "      <th>c</th>\n",
              "    </tr>\n",
              "  </thead>\n",
              "  <tbody>\n",
              "    <tr>\n",
              "      <th>0</th>\n",
              "      <td>a1</td>\n",
              "      <td>b1</td>\n",
              "      <td>c1</td>\n",
              "    </tr>\n",
              "    <tr>\n",
              "      <th>1</th>\n",
              "      <td>a2</td>\n",
              "      <td>b2</td>\n",
              "      <td>c2</td>\n",
              "    </tr>\n",
              "    <tr>\n",
              "      <th>2</th>\n",
              "      <td>a3</td>\n",
              "      <td>b3</td>\n",
              "      <td>c3</td>\n",
              "    </tr>\n",
              "    <tr>\n",
              "      <th>3</th>\n",
              "      <td>a4</td>\n",
              "      <td>b4</td>\n",
              "      <td>c4</td>\n",
              "    </tr>\n",
              "  </tbody>\n",
              "</table>\n",
              "</div>"
            ],
            "text/plain": [
              "    a   b   c\n",
              "0  a1  b1  c1\n",
              "1  a2  b2  c2\n",
              "2  a3  b3  c3\n",
              "3  a4  b4  c4"
            ]
          },
          "metadata": {},
          "execution_count": 79
        }
      ]
    },
    {
      "cell_type": "markdown",
      "metadata": {
        "id": "0zfF7MNcwa5Q"
      },
      "source": [
        "## matplotlib\n",
        "plotting figures"
      ]
    },
    {
      "cell_type": "code",
      "metadata": {
        "id": "5b_flKKNwa5R"
      },
      "source": [
        "import matplotlib.pyplot as plt\n",
        "# show figures inside notebook\n",
        "%matplotlib inline \n"
      ],
      "execution_count": 80,
      "outputs": []
    },
    {
      "cell_type": "code",
      "metadata": {
        "id": "LZ576HBCwa5S",
        "colab": {
          "base_uri": "https://localhost:8080/",
          "height": 295
        },
        "outputId": "fefbccff-600a-4638-a266-1d530cd3cae3"
      },
      "source": [
        "x = np.linspace(-10, 10, 100)\n",
        "y = np.random.randn(100)\n",
        "plt.plot(x, y, color='r')\n",
        "plt.xlabel('x')\n",
        "plt.ylabel('y')"
      ],
      "execution_count": 81,
      "outputs": [
        {
          "output_type": "execute_result",
          "data": {
            "text/plain": [
              "Text(0, 0.5, 'y')"
            ]
          },
          "metadata": {},
          "execution_count": 81
        },
        {
          "output_type": "display_data",
          "data": {
            "image/png": "[encoded data removed]",
            "text/plain": [
              "<Figure size 432x288 with 1 Axes>"
            ]
          },
          "metadata": {
            "needs_background": "light"
          }
        }
      ]
    },
    {
      "cell_type": "markdown",
      "metadata": {
        "id": "E3JI92uAwa5T"
      },
      "source": [
        "# resources"
      ]
    },
    {
      "cell_type": "markdown",
      "metadata": {
        "id": "tI7ZWFHNwa5U"
      },
      "source": [
        "[Python Cheatsheet ](https://www.pythoncheatsheet.org)\n",
        "\n",
        "\n",
        "[The Python Tutorial](https://docs.python.org/3/tutorial/index.html)\n",
        "\n",
        "\n",
        "[Python Data Science Handbook](https://jakevdp.github.io/PythonDataScienceHandbook/)\n",
        "\n",
        "[Hands-on Machine Learning with Scikit-Learn, Keras and TensorFlow](https://github.com/ageron/handson-ml2)"
      ]
    },
    {
      "cell_type": "code",
      "metadata": {
        "id": "I9mYk_9Hx5PY"
      },
      "source": [
        ""
      ],
      "execution_count": 81,
      "outputs": []
    },
    {
      "cell_type": "code",
      "metadata": {
        "id": "JfZnefALwNSk"
      },
      "source": [
        ""
      ],
      "execution_count": 81,
      "outputs": []
    }
  ]
}